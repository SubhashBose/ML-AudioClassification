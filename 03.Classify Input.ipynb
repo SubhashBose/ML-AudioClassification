{
 "cells": [
  {
   "cell_type": "markdown",
   "id": "2e5c96a7",
   "metadata": {},
   "source": [
    "In this notebook we will load the optimized model which we saved in the previous notebook an will classify a given input audio file, either a .wav or .mp3\n",
    "\n",
    "Note that this notebook is for explanation only. For the actual Web APP, we run the code as python script, which is `classify_cmd.py`. The input file comes from the direct recording or as a file upload from the APP, which is then passed on to the script as commanline argument like this\n",
    "\n",
    "```sh\n",
    "$ ./classify_cmd.py InputFile.mp3\n",
    "```\n",
    "\n",
    "The output from the script is then sent back to the APP interface as JSON and Base64 encdoded plot graphics."
   ]
  },
  {
   "cell_type": "markdown",
   "id": "c1638eba",
   "metadata": {},
   "source": [
    "# Loading the saved model"
   ]
  },
  {
   "cell_type": "code",
   "execution_count": 1,
   "id": "3f7149a2",
   "metadata": {},
   "outputs": [],
   "source": [
    "import pickle, glob, os"
   ]
  },
  {
   "cell_type": "code",
   "execution_count": 2,
   "id": "07e08c51",
   "metadata": {},
   "outputs": [],
   "source": [
    "with open('VoteC_mfcc20.model','rb') as fh:\n",
    "    model=pickle.load(fh)"
   ]
  },
  {
   "cell_type": "markdown",
   "id": "d5725d3e",
   "metadata": {},
   "source": [
    "# Loading a given input audio file"
   ]
  },
  {
   "cell_type": "code",
   "execution_count": 7,
   "id": "75d22585",
   "metadata": {
    "tags": []
   },
   "outputs": [],
   "source": [
    "# We select a random audio file as input for testing\n",
    "\n",
    "audio_file='genres/rock/rock.00005.wav'"
   ]
  },
  {
   "cell_type": "code",
   "execution_count": 10,
   "id": "e662cabf",
   "metadata": {},
   "outputs": [],
   "source": [
    "import numpy as np\n",
    "import librosa\n",
    "import pandas as pd"
   ]
  },
  {
   "cell_type": "code",
   "execution_count": null,
   "id": "aed4b588",
   "metadata": {},
   "outputs": [],
   "source": [
    "# To supress librosa warning message when reading a mp3 file\n",
    "import warnings\n",
    "warnings.filterwarnings('ignore')"
   ]
  },
  {
   "cell_type": "markdown",
   "id": "175a7c1a",
   "metadata": {},
   "source": [
    "This function is to extract features from a given audio file or from a loaded audio data \n",
    "\n",
    "This function is exactly same as we defined in Notebook 1 for feature extraction "
   ]
  },
  {
   "cell_type": "code",
   "execution_count": 8,
   "id": "542d07fa",
   "metadata": {},
   "outputs": [],
   "source": [
    "\n",
    "def get_features(file=None,n_mfcc=20, target_sr=22050):\n",
    "    if not file:\n",
    "        (sig, sr)=(np.array([0.0]), 1.0)\n",
    "    else:\n",
    "        if isinstance(file,tuple):\n",
    "            (sig, sr)=file\n",
    "            file='SignalData'\n",
    "        else:\n",
    "            (sig, sr) = librosa.load(file, sr=target_sr, mono=True)\n",
    "        if sr!=target_sr:\n",
    "            sig=librosa.resample(sig,sr,target_sr)\n",
    "            sr=target_sr\n",
    "    features={'file':file}\n",
    "    mfcc=np.mean(librosa.feature.mfcc(sig, sr=sr,n_mfcc=n_mfcc),axis=1)\n",
    "    for i in range(len(mfcc)):\n",
    "        features['mfcc_'+str(i+1)] = mfcc[i]\n",
    "    features['bandwidth'] = np.mean(librosa.feature.spectral_bandwidth(sig, sr=sr))\n",
    "    features['rolloff'] = np.mean(librosa.feature.spectral_rolloff(sig, sr=sr))\n",
    "    features['zero_cross'] = np.mean(librosa.feature.zero_crossing_rate(sig))\n",
    "    features['chroma'] = np.mean(librosa.feature.chroma_stft(sig, sr=sr))\n",
    "    features['centroid'] = np.mean(librosa.feature.spectral_centroid(sig, sr=sr))\n",
    "    features['rms'] = np.mean(librosa.feature.rms(sig))\n",
    "    return features"
   ]
  },
  {
   "cell_type": "code",
   "execution_count": 11,
   "id": "5a04a469",
   "metadata": {},
   "outputs": [],
   "source": [
    "# Load the audio data from inpiut file\n",
    "\n",
    "(sig, sr) = librosa.load(audio_file, sr=22050, mono=True)"
   ]
  },
  {
   "cell_type": "markdown",
   "id": "5c7c9158",
   "metadata": {},
   "source": [
    "# Applying the classifer model"
   ]
  },
  {
   "cell_type": "markdown",
   "id": "57adce9e",
   "metadata": {},
   "source": [
    "Our audio data file may contain multipel genres in differnt sections, so we split the audio data into 30 seconds interval and apply classifier model on each part then take a mean of the probable genres.\n",
    "\n",
    "\n",
    "For eaxmple if we have a 120 seconds audio piece, we split into small but 50% oerlapping intervals like this : [0,30], [15,45], [30,60], [45, 75], [60, 90], [75, 105], [90, 120] seconds.\n",
    "\n",
    "\n"
   ]
  },
  {
   "cell_type": "code",
   "execution_count": 12,
   "id": "e638e384",
   "metadata": {},
   "outputs": [],
   "source": [
    "#  split interval of 30 seconds or length of the audio file, whichever is lower\n",
    "\n",
    "dt=min([30,len(sig)/sr])"
   ]
  },
  {
   "cell_type": "code",
   "execution_count": 16,
   "id": "78c17dec",
   "metadata": {},
   "outputs": [],
   "source": [
    "# make list of split sections\n",
    "\n",
    "intervals=[[iv, iv+int(sr*dt)]  for iv in list(range(0,len(sig)-int(sr*dt)+1,int(sr*dt/2)))]"
   ]
  },
  {
   "cell_type": "code",
   "execution_count": 17,
   "id": "259e03e0",
   "metadata": {},
   "outputs": [],
   "source": [
    "# Extarct the features for each split section and put into a DataFrame\n",
    "\n",
    "data=pd.DataFrame(columns=model['columns'])\n",
    "for iv in intervals:\n",
    "    data=data.append(get_features(( sig[iv[0]:iv[1]] , sr),model['n_mfcc']),ignore_index=True)"
   ]
  },
  {
   "cell_type": "markdown",
   "id": "6360b539",
   "metadata": {},
   "source": [
    "We now apply the classifer model to each section and get the prediction probabilities for every genre.\n",
    "\n",
    "Then we take median of probabilites for all sections.\n",
    "\n"
   ]
  },
  {
   "cell_type": "code",
   "execution_count": 18,
   "id": "9c63b85c",
   "metadata": {},
   "outputs": [
    {
     "name": "stdout",
     "output_type": "stream",
     "text": [
      "The most probable genre is rock\n"
     ]
    }
   ],
   "source": [
    "# Applying the classifer model and get the genre probabilities\n",
    "\n",
    "pred_proba=model['model'].predict_proba(data[model['columns']])\n",
    "median_poba=np.median(pred_proba,axis=0)\n",
    "median_poba[median_poba<0.05]=0.0\n",
    "median_poba=median_poba/median_poba.sum()\n",
    "\n",
    "label_prob=[k for k in zip(sorted(model['genre_mapper'].keys()),median_poba) if k[1]>0.0]\n",
    "\n",
    "pred_name=sorted(label_prob, key=lambda tup: tup[1], reverse=True)[0][0]\n",
    "\n",
    "print(\"The most probable genre is \"+pred_name)"
   ]
  },
  {
   "cell_type": "code",
   "execution_count": 20,
   "id": "3a2406df",
   "metadata": {},
   "outputs": [
    {
     "data": {
      "image/png": "[encoded data removed]",
      "text/plain": [
       "<Figure size 720x432 with 1 Axes>"
      ]
     },
     "metadata": {},
     "output_type": "display_data"
    }
   ],
   "source": [
    "# We plot the probability pie-chart\n",
    "\n",
    "import matplotlib.pyplot as plt\n",
    "pie, ax = plt.subplots(figsize=[10,6])\n",
    "labels = data.keys()\n",
    "plt.pie(labels=[k[0].upper() for k in label_prob], x=[k[1] for k in label_prob], autopct=\"%1.f%%\", explode=[0.05]*len(label_prob), pctdistance=0.5)\n",
    "plt.show()"
   ]
  },
  {
   "cell_type": "code",
   "execution_count": null,
   "id": "0a48fd95",
   "metadata": {},
   "outputs": [],
   "source": []
  }
 ],
 "metadata": {
  "kernelspec": {
   "display_name": "Python 3",
   "language": "python",
   "name": "python3"
  },
  "language_info": {
   "codemirror_mode": {
    "name": "ipython",
    "version": 3
   },
   "file_extension": ".py",
   "mimetype": "text/x-python",
   "name": "python",
   "nbconvert_exporter": "python",
   "pygments_lexer": "ipython3",
   "version": "3.7.10"
  },
  "toc-autonumbering": false,
  "toc-showcode": false,
  "toc-showmarkdowntxt": false,
  "toc-showtags": false
 },
 "nbformat": 4,
 "nbformat_minor": 5
}
